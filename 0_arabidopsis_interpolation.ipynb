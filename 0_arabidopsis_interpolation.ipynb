{
 "cells": [
  {
   "cell_type": "code",
   "execution_count": 1,
   "metadata": {},
   "outputs": [
    {
     "name": "stdout",
     "output_type": "stream",
     "text": [
      "0\n",
      "1\n",
      "2\n",
      "3\n",
      "4\n",
      "5\n",
      "6\n",
      "7\n",
      "8\n",
      "9\n",
      "10\n",
      "[150.6271195608807, 314.477228716138, 681.1317591511605, 899.9483876123953, 969.2368708388592, 1057.1883831529553, 983.5508786101335, 946.7618247154714, 884.7480972990923, 546.2154622454218, 526.0474649605285]\n"
     ]
    }
   ],
   "source": [
    "import pandas as pd\n",
    "import numpy as np\n",
    "from scipy.interpolate import interp1d # for interpolation\n",
    "\n",
    "# create function to return distances of polyline vectors\n",
    "\n",
    "def get_distance(x, y):\n",
    "\n",
    "    d = np.cumsum(np.sqrt( np.ediff1d(x)**2 + np.ediff1d(y)**2 ))\n",
    "    d = d[-1]\n",
    "\n",
    "    return d\n",
    "\n",
    "# create empty list to store overall distance of polyline for each leaf, 1 through 11\n",
    "\n",
    "leaf_distances = []\n",
    "\n",
    "# iterate over each file for each leaf and store overall distance\n",
    "\n",
    "for leaf in range(11):\n",
    "    \n",
    "    print(leaf)\n",
    "    \n",
    "    leaf_number = str(leaf + 1) # add one because leaf index starts on 1 not 0\n",
    "    \n",
    "    leaf_number = leaf_number.zfill(2) # file name numbers are 2 places with a leading zero\n",
    "    \n",
    "    file_name = \"./leaf\" + leaf_number + \".txt\" # create file name\n",
    "\n",
    "    leaf_data = np.loadtxt(file_name) # load in data for the current leaf\n",
    "    \n",
    "    # calculate distances for leaf outline polyline and append to list\n",
    "\n",
    "    leaf_distances.append(get_distance(leaf_data[:,0], leaf_data[:,1]))\n",
    "    \n",
    "# check leaf distance successfully calculated\n",
    "\n",
    "print(leaf_distances)"
   ]
  },
  {
   "cell_type": "code",
   "execution_count": 2,
   "metadata": {},
   "outputs": [],
   "source": [
    "# function to retrieve iterpolated points\n",
    "\n",
    "def interpolation(x, y, number):\n",
    "\n",
    "    distance = np.cumsum(np.sqrt( np.ediff1d(x, to_begin=0)**2 + np.ediff1d(y, to_begin=0)**2 ))\n",
    "    distance = distance/distance[-1]\n",
    "\n",
    "    fx, fy = interp1d( distance, x ), interp1d( distance, y )\n",
    "\n",
    "    alpha = np.linspace(0, 1, number)\n",
    "    x_regular, y_regular = fx(alpha), fy(alpha)\n",
    "    \n",
    "    return x_regular, y_regular"
   ]
  },
  {
   "cell_type": "code",
   "execution_count": 3,
   "metadata": {
    "scrolled": false
   },
   "outputs": [
    {
     "name": "stdout",
     "output_type": "stream",
     "text": [
      "0\n",
      "1\n",
      "2\n",
      "3\n",
      "4\n",
      "5\n",
      "6\n",
      "7\n",
      "8\n",
      "9\n",
      "10\n",
      "11\n"
     ]
    }
   ],
   "source": [
    "n_pts = 100 # select number of points to interpolate for each leaf\n",
    "\n",
    "interpolated_points = [] # list of lists with points for each leaf\n",
    "\n",
    "for leaf in range(11):\n",
    "    \n",
    "    print(leaf)\n",
    "    \n",
    "    leaf_number = str(leaf + 1) # add one because leaf index starts on 1 not 0\n",
    "    \n",
    "    leaf_number = leaf_number.zfill(2) # file name numbers are 2 places with a leading zero\n",
    "    \n",
    "    file_name = \"./leaf\" + leaf_number + \".txt\" # create file name\n",
    "\n",
    "    leaf_data = np.loadtxt(file_name) # load in data for the current leaf\n",
    "    \n",
    "    # perform interpolation\n",
    "    \n",
    "    xpts, ypts = interpolation(leaf_data[:,0], leaf_data[:,1], n_pts)\n",
    "    \n",
    "    leaf_vals = list(zip(xpts, ypts)) # points in tuples of form (x1, y1), etc.\n",
    "    leaf_vals = list(sum(leaf_vals, ())) # points converted to an x1, y1, x2, y2 ... xn, yn list\n",
    "    \n",
    "    interpolated_points.append(leaf_vals) # append points to overall list\n",
    "\n",
    "print(len(interpolated_points)) # check list length\n",
    "\n",
    "df = pd.DataFrame(interpolated_points) # convert to a pd.df\n",
    "\n",
    "df.head() # check df\n",
    "df.tail() # check df\n",
    "\n",
    "df.to_csv('./interpolated_points.txt', sep='\\t') # write out file\n",
    "\n"
   ]
  }
 ],
 "metadata": {
  "kernelspec": {
   "display_name": "Python 3",
   "language": "python",
   "name": "python3"
  },
  "language_info": {
   "codemirror_mode": {
    "name": "ipython",
    "version": 3
   },
   "file_extension": ".py",
   "mimetype": "text/x-python",
   "name": "python",
   "nbconvert_exporter": "python",
   "pygments_lexer": "ipython3",
   "version": "3.7.3"
  }
 },
 "nbformat": 4,
 "nbformat_minor": 2
}

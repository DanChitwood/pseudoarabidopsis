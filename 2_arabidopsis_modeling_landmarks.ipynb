{
 "cells": [
  {
   "cell_type": "code",
   "execution_count": 195,
   "metadata": {},
   "outputs": [],
   "source": [
    "import numpy as np\n",
    "import matplotlib.pyplot as plt\n",
    "from scipy.spatial import distance\n",
    "%matplotlib inline\n",
    "\n",
    "\n",
    "xdata = np.loadtxt(\"./xvals_for_modeling.csv\", delimiter=\",\") # load in x vals, rows = leaf, cols = landmarks 1-100\n",
    "ydata = np.loadtxt(\"./yvals_for_modeling.csv\", delimiter=\",\") # load in y vals, rows = leaf, cols = landmarks 1-100\n"
   ]
  },
  {
   "cell_type": "code",
   "execution_count": 206,
   "metadata": {},
   "outputs": [],
   "source": [
    "# create a loop to fit a polynomial for each of 100 landmarks xvals\n",
    "\n",
    "order = 3 # polynomial degree\n",
    "\n",
    "model_no = 100 # number of positions to model leaf development\n",
    "\n",
    "dev_xvals = [] # store a list of arrays, each array model for each of 100 landmarks\n",
    "\n",
    "for i in range(100): # for each of 100 landmarks\n",
    "    \n",
    "    xvals = list(range(11)) # model is across 11 leaves\n",
    "    yvals = xdata[:,i] # isolate the landmark for the current loop iteration\n",
    "    params = np.polyfit(xvals, yvals, order) # find poly params\n",
    "    func = np.poly1d(params) # create poly function\n",
    "    current_landmark_xvals = func(np.linspace(0,10,model_no)) # calculate model values\n",
    "    dev_xvals.append(current_landmark_xvals) # append model values\n",
    "    \n",
    "dev_xvals = np.array(dev_xvals) # save as an array, landmark by developmental stage"
   ]
  },
  {
   "cell_type": "code",
   "execution_count": 207,
   "metadata": {},
   "outputs": [],
   "source": [
    "# create a loop to fit a polynomial for each of 100 landmarks yvals\n",
    "\n",
    "dev_yvals = [] # store a list of arrays, each array model for each of 100 landmarks\n",
    "\n",
    "for i in range(100): # for each of 100 landmarks\n",
    "    \n",
    "    xvals = list(range(11)) # model is across 11 leaves\n",
    "    yvals = ydata[:,i] # isolate the landmark for the current loop iteration\n",
    "    params = np.polyfit(xvals, yvals, order) # find poly params\n",
    "    func = np.poly1d(params) # create poly function\n",
    "    current_landmark_yvals = func(np.linspace(0,10,model_no)) # calculate model values\n",
    "    dev_yvals.append(current_landmark_yvals) # append model values\n",
    "    \n",
    "dev_yvals = np.array(dev_yvals) # save as an array, landmark by developmental stage"
   ]
  },
  {
   "cell_type": "code",
   "execution_count": 335,
   "metadata": {},
   "outputs": [
    {
     "data": {
      "text/plain": [
       "<Figure size 432x288 with 0 Axes>"
      ]
     },
     "metadata": {},
     "output_type": "display_data"
    }
   ],
   "source": [
    "# loop to plot out leaves as a growing rosette using the golden angle\n",
    "\n",
    "golden_ang = 137.5077640500378546463487*(3.14159/180)\n",
    "limit=500\n",
    "\n",
    "\n",
    "for j in range(1, 1000, 4):\n",
    "    \n",
    "    iteration = j\n",
    "\n",
    "    new_leaf_num = iteration//10 + 1\n",
    "    old_leaf_num = new_leaf_num - 9\n",
    "\n",
    "    leaves = np.arange(old_leaf_num, new_leaf_num + 1)\n",
    "\n",
    "    thetas = []\n",
    "\n",
    "    for i in leaves:\n",
    "\n",
    "        curr_theta = golden_ang*i\n",
    "        thetas.append(curr_theta)\n",
    "\n",
    "    for i in range(10):\n",
    "\n",
    "        radian_ang = thetas[i]\n",
    "        stage = ((9-i)*10) + (iteration%10)\n",
    "\n",
    "\n",
    "        rotated_xvals = dev_xvals[:,stage]*np.cos(radian_ang) - dev_yvals[:,stage]*np.sin(radian_ang)\n",
    "        rotated_yvals = dev_yvals[:,stage]*np.cos(radian_ang) + dev_xvals[:,stage]*np.sin(radian_ang)\n",
    "\n",
    "        plt.style.use('dark_background')\n",
    "        plt.plot(rotated_xvals, rotated_yvals, c=\"magenta\")\n",
    "        plt.gca().set_aspect(\"equal\")\n",
    "        plt.axis(\"off\")\n",
    "        plt.xlim(-limit,limit)\n",
    "        plt.ylim(-limit,limit)\n",
    "        \n",
    "    plt.savefig(\"./temp/x_\" + str(j) + \".jpg\")\n",
    "    plt.close()\n",
    "    plt.clf()"
   ]
  },
  {
   "cell_type": "code",
   "execution_count": null,
   "metadata": {},
   "outputs": [],
   "source": []
  }
 ],
 "metadata": {
  "kernelspec": {
   "display_name": "Python 3",
   "language": "python",
   "name": "python3"
  },
  "language_info": {
   "codemirror_mode": {
    "name": "ipython",
    "version": 3
   },
   "file_extension": ".py",
   "mimetype": "text/x-python",
   "name": "python",
   "nbconvert_exporter": "python",
   "pygments_lexer": "ipython3",
   "version": "3.7.3"
  }
 },
 "nbformat": 4,
 "nbformat_minor": 2
}
